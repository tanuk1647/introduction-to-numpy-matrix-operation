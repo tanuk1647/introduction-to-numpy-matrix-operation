{
 "cells": [
  {
   "cell_type": "markdown",
   "metadata": {},
   "source": [
    "# NumPyの行列演算入門\n",
    "\n",
    "NumPyの行列演算に入門します。本記事は以下の内容を含みます。\n",
    "\n",
    "- ベクトルや行列の作り方\n",
    "- ユニバーサル関数\n",
    "- ブロードキャスト\n",
    "- 二項演算の結果\n"
   ]
  },
  {
   "cell_type": "markdown",
   "metadata": {},
   "source": [
    "## スカラー、ベクトル、行列\n",
    "\n",
    "NumPyでは、スカラーだけでなく、ベクトル、行列を扱うことができます。スカラー、ベクトル、行列の最も基本的な作成方法は以下のとおりです。"
   ]
  },
  {
   "cell_type": "markdown",
   "metadata": {},
   "source": [
    "### スカラー\n",
    "\n",
    "プログラム中に直接数値を書きます。"
   ]
  },
  {
   "cell_type": "code",
   "execution_count": 1,
   "metadata": {},
   "outputs": [
    {
     "name": "stdout",
     "output_type": "stream",
     "text": [
      "1\n",
      "<class 'int'>\n"
     ]
    }
   ],
   "source": [
    "x = 1\n",
    "\n",
    "print(x)\n",
    "print(type(x))"
   ]
  },
  {
   "cell_type": "markdown",
   "metadata": {},
   "source": [
    "### ベクトル\n",
    "\n",
    "numpy.array()の引数にリストを指定して実行します。型は配列として認識されています。"
   ]
  },
  {
   "cell_type": "code",
   "execution_count": 2,
   "metadata": {},
   "outputs": [
    {
     "name": "stdout",
     "output_type": "stream",
     "text": [
      "[1 2 3]\n",
      "<class 'numpy.ndarray'>\n"
     ]
    }
   ],
   "source": [
    "import numpy as np\n",
    "\n",
    "x = np.array([1,2,3])\n",
    "\n",
    "print(x)\n",
    "print(type(x))"
   ]
  },
  {
   "cell_type": "markdown",
   "metadata": {},
   "source": [
    "### 行列\n",
    "\n",
    "numpy.array()の引数に二次元リストを指定して実行します。型は配列として認識されています。"
   ]
  },
  {
   "cell_type": "code",
   "execution_count": 3,
   "metadata": {},
   "outputs": [
    {
     "name": "stdout",
     "output_type": "stream",
     "text": [
      "[[1 2 3]\n",
      " [1 2 3]]\n",
      "<class 'numpy.ndarray'>\n"
     ]
    }
   ],
   "source": [
    "import numpy as np\n",
    "\n",
    "x = np.array([[1,2,3],[1,2,3]])\n",
    "\n",
    "print(x)\n",
    "print(type(x))"
   ]
  },
  {
   "cell_type": "markdown",
   "metadata": {},
   "source": [
    "numpy.matrix()の引数に二次元リストか文字列を指定して実行することもできます。型は明確に行列として認識されています。"
   ]
  },
  {
   "cell_type": "code",
   "execution_count": 4,
   "metadata": {},
   "outputs": [
    {
     "name": "stdout",
     "output_type": "stream",
     "text": [
      "[[1 2 3]\n",
      " [1 2 3]]\n",
      "<class 'numpy.matrixlib.defmatrix.matrix'>\n"
     ]
    }
   ],
   "source": [
    "import numpy as np\n",
    "\n",
    "x = np.matrix('1 2 3; 1 2 3')\n",
    "#x = np.matrix([[1,2,3],[1,2,3]])\n",
    "\n",
    "print(x)\n",
    "print(type(x))"
   ]
  },
  {
   "cell_type": "markdown",
   "metadata": {},
   "source": [
    "## テンソル\n",
    "\n",
    "スカラー、ベクトル、行列…を抽象化したものをテンソルと言います。階数0のテンソルがスカラー、階数1のテンソルがベクトル、階数2のテンソルが行列に相当します。"
   ]
  },
  {
   "cell_type": "markdown",
   "metadata": {},
   "source": [
    "### 作成方法\n",
    "\n",
    "numpy.array()の引数に多次元リストを指定して実行してもよいのですが、ベクトルからreshape()する方法もあります。以下では3階のテンソルを作成しています。2 x 2 x 2の立方体を作成するイメージです。なお、numpy.arange()は、連番のベクトル（配列）を作成する関数です。"
   ]
  },
  {
   "cell_type": "code",
   "execution_count": 5,
   "metadata": {},
   "outputs": [
    {
     "name": "stdout",
     "output_type": "stream",
     "text": [
      "[[[0 1]\n",
      "  [2 3]]\n",
      "\n",
      " [[4 5]\n",
      "  [6 7]]]\n"
     ]
    }
   ],
   "source": [
    "import numpy as np\n",
    "\n",
    "print(np.arange(8).reshape(2, 2, 2))"
   ]
  },
  {
   "cell_type": "markdown",
   "metadata": {},
   "source": [
    "### 階数\n",
    "\n",
    "階数は、ndimを参照すれば求められます。スカラーの階数は0です。"
   ]
  },
  {
   "cell_type": "code",
   "execution_count": 6,
   "metadata": {},
   "outputs": [
    {
     "name": "stdout",
     "output_type": "stream",
     "text": [
      "1\n",
      "2\n",
      "3\n"
     ]
    }
   ],
   "source": [
    "import numpy as np\n",
    "\n",
    "print(np.arange(2).ndim)\n",
    "print(np.arange(9).reshape(3, 3).ndim)\n",
    "print(np.arange(27).reshape(3, 3, 3).ndim)"
   ]
  },
  {
   "cell_type": "markdown",
   "metadata": {},
   "source": [
    "### 形状\n",
    "\n",
    "形状は、shapeを参照すれば求められます。ベクトルの場合は次元数、行列の場合は型に相当します。スカラーの形状は()です。形状の成分の数は階数と一致します。"
   ]
  },
  {
   "cell_type": "code",
   "execution_count": 7,
   "metadata": {},
   "outputs": [
    {
     "name": "stdout",
     "output_type": "stream",
     "text": [
      "(2,)\n",
      "(3, 3)\n",
      "(3, 3, 3)\n"
     ]
    }
   ],
   "source": [
    "import numpy as np\n",
    "\n",
    "print(np.arange(2).shape)\n",
    "print(np.arange(9).reshape(3, 3).shape)\n",
    "print(np.arange(27).reshape(3, 3, 3).shape)"
   ]
  },
  {
   "cell_type": "markdown",
   "metadata": {},
   "source": [
    "## ユニバーサル関数\n",
    "NumPyの大きな特徴に、ユニバーサル関数（ufunc）を挙げることができます。"
   ]
  },
  {
   "cell_type": "markdown",
   "metadata": {},
   "source": [
    "### 定義\n",
    "\n",
    "ユニバーサル関数は、引数にスカラーだけでなく、1階以上のテンソル（ベクトルや行列）を取り、多相的に振る舞います。例えば、numpy.sin(x)の引数にスカラーを指定して実行すれば、対応する正弦値を求めることができます。また、引数にベクトルを指定して実行すれば、対応する正弦値を成分とするベクトルを求めることができます。入力値の階数に応じ、多相的に関数の振る舞いが変わるのです。詳しくは、[公式の定義](https://docs.scipy.org/doc/numpy/reference/ufuncs.html)を参照してください。"
   ]
  },
  {
   "cell_type": "code",
   "execution_count": 8,
   "metadata": {},
   "outputs": [
    {
     "name": "stdout",
     "output_type": "stream",
     "text": [
      "1.0471975511965976\n",
      "0.8660254037844386\n"
     ]
    }
   ],
   "source": [
    "import numpy as np\n",
    "\n",
    "x = np.pi/3\n",
    "\n",
    "print(x)\n",
    "print(np.sin(x))"
   ]
  },
  {
   "cell_type": "code",
   "execution_count": 9,
   "metadata": {},
   "outputs": [
    {
     "data": {
      "image/png": "[encoded data removed]",
      "text/plain": [
       "<Figure size 600x400 with 1 Axes>"
      ]
     },
     "metadata": {
      "image/png": {
       "height": 370,
       "width": 560
      }
     },
     "output_type": "display_data"
    }
   ],
   "source": [
    "import numpy as np\n",
    "import matplotlib.pyplot as plt\n",
    "\n",
    "x = np.arange(-np.pi, np.pi, np.pi/10)\n",
    "y = np.sin(x)\n",
    "\n",
    "plt.xlabel(\"x\")\n",
    "plt.ylabel(\"y\")\n",
    "plt.plot(x, y)\n",
    "plt.show()"
   ]
  },
  {
   "cell_type": "markdown",
   "metadata": {},
   "source": [
    "### ブロードキャスト\n",
    "\n",
    "ユニバーサル関数は、引数の形状が異なる場合でも、可能であれば、それらを一致させて計算しようとします。この機能をブロードキャストといいます。詳しくは、[公式の定義](https://docs.scipy.org/doc/numpy/reference/ufuncs.html#broadcasting)を参照してください。以下では簡単のために、引数が二つ（二項演算）のケースを想定して説明します。ブロードキャストのルールは、以下の四つです。\n",
    "\n",
    "1. 一方と他方の階数（ndim）が一致しない場合、小さい方の形状（shape）の先頭に1を付けて、階数を一致させる。例えば、一方の形状が(2,4)（＝2行４列の行列）、他方が(5,)（＝5次元ベクトル）の場合、後者の形状を(1,5)（＝1行5列の行列）に変更することで、階数を一致させる。\n",
    "1. 出力値の形状の各数値は、入力値の内、大きい方が採用される。例えば、入力値の一方の形状が(2,4)、他方の形状が(3,5)の場合、出力値の形状は(3,5)に決定される。\n",
    "1. 入力値は、形状の各数値が、出力値のそれと一致するか、あるいは、1である場合に計算に利用できる（＝エラーとならない）。例えば、入力値の一方の形状が(2,4)、他方の形状が(3,5)、出力値の形状が(3,5)の場合、入力値の前者の形状が出力値の形状と一致せず、また、1でもないのでエラーとなる。\n",
    "1. 入力値の形状の各数値に1がある場合、第一番目のデータを繰り返し利用する。例えば、ベクトル[2]（形状：(1,)）と、ベクトル[3,4]（形状2,）を計算する際、あたかも、ベクトル[2,2]とベクトル[3,4]の計算であるかのように計算する。行列の場合も、同様に計算する。\n",
    "\n",
    "以上のルールにより、以下のように、3次元ベクトルと3行3列の行列の和を求めることも可能です。なお、numpy.repeat()は、第一引数に指定した数を、第二引数に指定した数だけ繰り返して、ベクトル（配列）を作成します。"
   ]
  },
  {
   "cell_type": "code",
   "execution_count": 10,
   "metadata": {},
   "outputs": [
    {
     "name": "stdout",
     "output_type": "stream",
     "text": [
      "[[0 1 2]\n",
      " [0 1 2]\n",
      " [0 1 2]]\n"
     ]
    }
   ],
   "source": [
    "import numpy as np\n",
    "\n",
    "x = np.arange(3)\n",
    "y = np.repeat(0, 9).reshape(3, 3)\n",
    "\n",
    "print(np.add(x, y))"
   ]
  },
  {
   "cell_type": "markdown",
   "metadata": {},
   "source": [
    "## 二項演算\n",
    "\n",
    "スカラー、ベクトル、行列に対する二項演算（加法、乗法）の結果をまとめます。なお、行列積とは、以下のたぐいの計算を表します。\n",
    "\n",
    "$$\n",
    "\\begin{pmatrix}\n",
    "a & b \\\\\n",
    "c & d \\\\\n",
    "\\end{pmatrix}\n",
    "\\begin{pmatrix}\n",
    "p & q \\\\\n",
    "r & s \\\\\n",
    "\\end{pmatrix}\n",
    "=\n",
    "\\begin{pmatrix}\n",
    "ap+br & aq+bs \\\\\n",
    "cp+dr & cq+ds \\\\\n",
    "\\end{pmatrix}\n",
    "$$\n",
    "\n",
    "お忙しい方は、結論からどうぞ。"
   ]
  },
  {
   "cell_type": "markdown",
   "metadata": {},
   "source": [
    "### +\n",
    "\n",
    "- すべて成分ごとの和となります。以下に結果の型と値を示します。\n",
    "\n",
    "|      ＼       | スカラー      | ベクトル      | 行列(ndarray) | 行列(matrix) |\n",
    "|:-------------:|:-------------:|:-------------:|:-------------:|:------------:|\n",
    "| スカラー      | スカラー      | ベクトル      | 行列(ndarray) | 行列(matrix) |\n",
    "| ベクトル      | ベクトル      | ベクトル      | 行列(ndarray) | 行列(matrix) |\n",
    "| 行列(ndarray) | 行列(ndarray) | 行列(ndarray) | 行列(ndarray) | 行列(matrix) |\n",
    "| 行列(matrix)  | 行列(matrix)  | 行列(matrix)  | 行列(matrix)  | 行列(matrix) |\n",
    "\n",
    "|      ＼       | スカラー     | ベクトル     | 行列(ndarray) | 行列(matrix) |\n",
    "|:-------------:|:------------:|:------------:|:-------------:|:------------:|\n",
    "| スカラー      | 成分ごとの和 | 成分ごとの和 | 成分ごとの和  | 成分ごとの和 |\n",
    "| ベクトル      | 成分ごとの和 | 成分ごとの和 | 成分ごとの和  | 成分ごとの和 |\n",
    "| 行列(ndarray) | 成分ごとの和 | 成分ごとの和 | 成分ごとの和  | 成分ごとの和 |\n",
    "| 行列(matrix)  | 成分ごとの和 | 成分ごとの和 | 成分ごとの和  | 成分ごとの和 |\n"
   ]
  },
  {
   "cell_type": "code",
   "execution_count": 11,
   "metadata": {},
   "outputs": [
    {
     "name": "stdout",
     "output_type": "stream",
     "text": [
      "[[1 1 1]\n",
      " [1 1 1]]\n",
      "<class 'numpy.matrixlib.defmatrix.matrix'>\n"
     ]
    }
   ],
   "source": [
    "import numpy as np\n",
    "\n",
    "x = np.matrix('0 0 0; 0 0 0')\n",
    "y = 1\n",
    "z = x + y\n",
    "\n",
    "print(z)\n",
    "print(type(z))"
   ]
  },
  {
   "cell_type": "markdown",
   "metadata": {},
   "source": [
    "### \\*\n",
    "\n",
    "- スカラー以外と行列(matrix)が絡むと、行列積となります。その際、ベクトルは（ブロードキャストの結果）1行n列の行列とみなされます。\n",
    "- 行列(matrix)が絡まない場合は、成分ごとの積となります。\n",
    "\n",
    "|      ＼       | スカラー      | ベクトル      | 行列(ndarray) | 行列(matrix) |\n",
    "|:-------------:|:-------------:|:-------------:|:-------------:|:------------:|\n",
    "| スカラー      | スカラー      | ベクトル      | 行列(ndarray) | 行列(matrix) |\n",
    "| ベクトル      | ベクトル      | ベクトル      | 行列(ndarray) | 行列(matrix) |\n",
    "| 行列(ndarray) | 行列(ndarray) | 行列(ndarray) | 行列(ndarray) | 行列(matrix) |\n",
    "| 行列(matrix)  | 行列(matrix)  | 行列(matrix)  | 行列(matrix)  | 行列(matrix) |\n",
    "\n",
    "|      ＼       | スカラー     | ベクトル     | 行列(ndarray) | 行列(matrix) |\n",
    "|:-------------:|:------------:|:------------:|:-------------:|:------------:|\n",
    "| スカラー      | 成分ごとの積 | 成分ごとの積 | 成分ごとの積  | 成分ごとの積 |\n",
    "| ベクトル      | 成分ごとの積 | 成分ごとの積 | 成分ごとの積  | 行列積       |\n",
    "| 行列(ndarray) | 成分ごとの積 | 成分ごとの積 | 成分ごとの積  | 行列積       |\n",
    "| 行列(matrix)  | 成分ごとの積 | 行列積       | 行列積        | 行列積       |"
   ]
  },
  {
   "cell_type": "code",
   "execution_count": 12,
   "metadata": {},
   "outputs": [
    {
     "name": "stdout",
     "output_type": "stream",
     "text": [
      "ValueErrorが発生しました１。\n",
      "[[5 5]]\n"
     ]
    }
   ],
   "source": [
    "import numpy as np\n",
    "\n",
    "x = np.matrix('1 1; 1 1')\n",
    "y = np.array([2, 3])\n",
    "\n",
    "try:\n",
    "    z = x * y    # 2行2列と1行2列の行列積なのでエラーとなる。\n",
    "    print(z)\n",
    "except ValueError:\n",
    "    print('ValueErrorが発生しました１。')\n",
    "\n",
    "try:\n",
    "    z = y * x    # 1行2列と2行2列の行列積なのでエラーとならない。\n",
    "    print(z)\n",
    "except ValueError:\n",
    "    print('ValueErrorが発生しました２。')"
   ]
  },
  {
   "cell_type": "markdown",
   "metadata": {},
   "source": [
    "### np.dot\n",
    "\n",
    "- スカラーが絡むと、成分ごとの積となります。\n",
    "- ベクトルとベクトルの積は、内積となります。\n",
    "- その他はすべて行列積となります。その際、左がベクトルの場合は行ベクトル、右がベクトルの場合は列ベクトルと解釈されます。\n",
    "\n",
    "|      ＼       | スカラー      | ベクトル     | 行列(ndarray) | 行列(matrix) |\n",
    "|:-------------:|:-------------:|:------------:|:-------------:|:------------:|\n",
    "| スカラー      | スカラー      | ベクトル     | 行列(ndarray) | 行列(matrix) |\n",
    "| ベクトル      | ベクトル      | スカラー     | ベクトル      | 行列(matrix) |\n",
    "| 行列(ndarray) | 行列(ndarray) | ベクトル     | 行列(ndarray) | 行列(matrix) |\n",
    "| 行列(matrix)  | 行列(matrix)  | 行列(matrix) | 行列(matrix)  | 行列(matrix) |\n",
    "\n",
    "|      ＼       | スカラー     | ベクトル     | 行列(ndarray) | 行列(matrix) |\n",
    "|:-------------:|:------------:|:------------:|:-------------:|:------------:|\n",
    "| スカラー      | 成分ごとの積 | 成分ごとの積 | 成分ごとの積  | 成分ごとの積 |\n",
    "| ベクトル      | 成分ごとの積 | 内積         | 行列積        | 行列積       |\n",
    "| 行列(ndarray) | 成分ごとの積 | 行列積       | 行列積        | 行列積       |\n",
    "| 行列(matrix)  | 成分ごとの積 | 行列積       | 行列積        | 行列積       |"
   ]
  },
  {
   "cell_type": "code",
   "execution_count": 13,
   "metadata": {},
   "outputs": [
    {
     "name": "stdout",
     "output_type": "stream",
     "text": [
      "[[5 5]]\n",
      "[[5 5]]\n"
     ]
    }
   ],
   "source": [
    "import numpy as np\n",
    "\n",
    "x = np.matrix('1 1; 1 1')\n",
    "y = np.array([2, 3])\n",
    "\n",
    "try:\n",
    "    z = np.dot(x, y)    # 2行2列と2行1列の行列積なのでエラーとならない。\n",
    "    print(z)\n",
    "except ValueError:\n",
    "    print('ValueErrorが発生しました１。')\n",
    "\n",
    "try:\n",
    "    z = np.dot(y, x)    # 1行2列と2行2列の行列積なのでエラーとならない。\n",
    "    print(z)\n",
    "except ValueError:\n",
    "    print('ValueErrorが発生しました２。')"
   ]
  },
  {
   "cell_type": "markdown",
   "metadata": {},
   "source": [
    "### @\n",
    "\n",
    "Python 3.5以降（[PEP 465](https://www.python.org/dev/peps/pep-0465/))で利用可能となりました。\n",
    "\n",
    "- 以下はエラーとなり、計算不能です。\n",
    "    - スカラーが絡む\n",
    "    - ベクトルと行列(matrix)が絡む\n",
    "- ベクトルとベクトルの積は、内積となります。\n",
    "- その他はすべて行列積となります。その際、左がベクトルの場合は行ベクトル、右がベクトルの場合は列ベクトルと解釈されます。\n",
    "\n",
    "|      ＼       | スカラー | ベクトル | 行列(ndarray) | 行列(matrix) |\n",
    "|:-------------:|:--------:|:--------:|:-------------:|:------------:|\n",
    "| スカラー      | 計算不能 | 計算不能 | 計算不能      | 計算不能     |\n",
    "| ベクトル      | 計算不能 | スカラー | ベクトル      | 計算不能     |\n",
    "| 行列(ndarray) | 計算不能 | ベクトル | 行列(ndarray) | 行列(matrix) |\n",
    "| 行列(matrix)  | 計算不能 | 計算不能 | 行列(matrix)  | 行列(matrix) |\n",
    "\n",
    "|      ＼       | スカラー | ベクトル | 行列(ndarray) | 行列(matrix) |\n",
    "|:-------------:|:--------:|:--------:|:-------------:|:------------:|\n",
    "| スカラー      | 計算不能 | 計算不能 | 計算不能      | 計算不能     |\n",
    "| ベクトル      | 計算不能 | 内積     | 行列積        | 計算不能     |\n",
    "| 行列(ndarray) | 計算不能 | 行列積   | 行列積        | 行列積       |\n",
    "| 行列(matrix)  | 計算不能 | 計算不能 | 行列積        | 行列積       |\n",
    "\n",
    "以下に示すとおり、np.dotと@は、可換ではありません。"
   ]
  },
  {
   "cell_type": "code",
   "execution_count": 14,
   "metadata": {},
   "outputs": [
    {
     "name": "stdout",
     "output_type": "stream",
     "text": [
      "[[4 5]\n",
      " [5 6]]\n",
      "ValueErrorが発生しました２。\n",
      "[[23 28]]\n",
      "<class 'RuntimeError'> Iterator automatic output has an array subtype which changed the dimensions of the output\n"
     ]
    }
   ],
   "source": [
    "import numpy as np\n",
    "import sys\n",
    "\n",
    "x = 1\n",
    "y = np.array([2, 3])\n",
    "z = np.matrix([[4, 5], [5, 6]])\n",
    "\n",
    "try:\n",
    "    s = np.dot(x, z)\n",
    "    print(s)\n",
    "except ValueError:\n",
    "    print('ValueErrorが発生しました１。')\n",
    "\n",
    "try:\n",
    "    s = x @ z\n",
    "    print(s)\n",
    "except ValueError:\n",
    "    print('ValueErrorが発生しました２。')\n",
    "\n",
    "try:\n",
    "    s = np.dot(y, z)\n",
    "    print(s)\n",
    "except ValueError:\n",
    "    print('ValueErrorが発生しました３。')\n",
    "\n",
    "try:\n",
    "    s = y @ z\n",
    "    print(s)\n",
    "except ValueError:\n",
    "    print('ValueErrorが発生しました４。')\n",
    "except:\n",
    "    exc_info = sys.exc_info()\n",
    "    print(exc_info[0], exc_info[1])"
   ]
  },
  {
   "cell_type": "markdown",
   "metadata": {},
   "source": [
    "### 結論：結局どうすれば良いのか？\n",
    "\n",
    "以下とすることで、わかりやすく、一貫性のある行列演算が可能になるはずです。\n",
    "\n",
    "- numpy.matrixは使わない\n",
    "- ベクトルも明示的に行列（1行n列、もしくは、n行1列）として定義する\n",
    "- +、\\*、@を使う\n",
    "\n",
    "ユニバーサル関数も交えて、ひとつ計算してみましょう。Tは行列の転置を表します。"
   ]
  },
  {
   "cell_type": "code",
   "execution_count": 15,
   "metadata": {},
   "outputs": [
    {
     "data": {
      "text/plain": [
       "array([[162],\n",
       "       [324],\n",
       "       [570]])"
      ]
     },
     "execution_count": 15,
     "metadata": {},
     "output_type": "execute_result"
    }
   ],
   "source": [
    "scalar1 = 2\n",
    "vector1 = np.array([[1, 2, 3]])\n",
    "matrix1 = np.array([[-1, 2], [2, -4], [-5, 6]])\n",
    "vector2 = np.array([[1, 2]])\n",
    "matrix2 = np.array([[1, 2], [2, 4], [5, 6]])\n",
    "\n",
    "scalar1 * matrix2 @ (vector1 @ np.abs(matrix1) + vector2).T"
   ]
  },
  {
   "cell_type": "markdown",
   "metadata": {},
   "source": [
    "以上の記載は、以下の等価な記載より、はるかに明瞭ですよね。"
   ]
  },
  {
   "cell_type": "code",
   "execution_count": 16,
   "metadata": {},
   "outputs": [
    {
     "data": {
      "text/plain": [
       "array([[162],\n",
       "       [324],\n",
       "       [570]])"
      ]
     },
     "execution_count": 16,
     "metadata": {},
     "output_type": "execute_result"
    }
   ],
   "source": [
    "scalar1 = 2\n",
    "vector1 = np.array([[1, 2, 3]])\n",
    "matrix1 = np.array([[-1, 2], [2, -4], [-5, 6]])\n",
    "vector2 = np.array([[1, 2]])\n",
    "matrix2 = np.array([[1, 2], [2, 4], [5, 6]])\n",
    "\n",
    "np.dot(scalar1 * matrix2, (np.dot(vector1, np.abs(matrix1)) + vector2).T)"
   ]
  },
  {
   "cell_type": "markdown",
   "metadata": {},
   "source": [
    "行列式も逆行列もやらなかったけど、入門編ということで、以上にしたいと思います。"
   ]
  },
  {
   "cell_type": "code",
   "execution_count": null,
   "metadata": {},
   "outputs": [],
   "source": []
  }
 ],
 "metadata": {
  "kernelspec": {
   "display_name": "introduction",
   "language": "python",
   "name": "introduction"
  },
  "language_info": {
   "codemirror_mode": {
    "name": "ipython",
    "version": 3
   },
   "file_extension": ".py",
   "mimetype": "text/x-python",
   "name": "python",
   "nbconvert_exporter": "python",
   "pygments_lexer": "ipython3",
   "version": "3.6.6"
  }
 },
 "nbformat": 4,
 "nbformat_minor": 2
}
